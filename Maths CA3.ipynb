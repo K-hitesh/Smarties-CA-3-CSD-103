{
 "cells": [
  {
   "cell_type": "code",
   "execution_count": 12,
   "id": "01a68160",
   "metadata": {},
   "outputs": [],
   "source": [
    "import numpy as np\n",
    "import pandas as pd\n",
    "import matplotlib.pyplot as plt\n",
    "import seaborn as sns\n",
    "from scipy import stats"
   ]
  },
  {
   "cell_type": "code",
   "execution_count": 13,
   "id": "ee12bf4d",
   "metadata": {},
   "outputs": [],
   "source": [
    "data=pd.read_csv(r\"C:\\Users\\Windows\\Downloads\\Private_data.csv\")"
   ]
  },
  {
   "cell_type": "code",
   "execution_count": 14,
   "id": "48b0e5b1",
   "metadata": {},
   "outputs": [
    {
     "data": {
      "text/html": [
       "<div>\n",
       "<style scoped>\n",
       "    .dataframe tbody tr th:only-of-type {\n",
       "        vertical-align: middle;\n",
       "    }\n",
       "\n",
       "    .dataframe tbody tr th {\n",
       "        vertical-align: top;\n",
       "    }\n",
       "\n",
       "    .dataframe thead th {\n",
       "        text-align: right;\n",
       "    }\n",
       "</style>\n",
       "<table border=\"1\" class=\"dataframe\">\n",
       "  <thead>\n",
       "    <tr style=\"text-align: right;\">\n",
       "      <th></th>\n",
       "      <th>Unnamed: 0</th>\n",
       "      <th>NAME OF THE STUDENT</th>\n",
       "      <th>UNIVERSITY</th>\n",
       "      <th>PROGRAM NAME</th>\n",
       "      <th>Specialisation</th>\n",
       "      <th>SEMESTER</th>\n",
       "      <th>Domain</th>\n",
       "      <th>GENERAL MANAGEMENT SCORE (OUT of 50)</th>\n",
       "      <th>Domain Specific SCORE (OUT 50)</th>\n",
       "      <th>TOTAL SCORE (OUT of 100)</th>\n",
       "      <th>RANK</th>\n",
       "      <th>PERCENTILE</th>\n",
       "    </tr>\n",
       "  </thead>\n",
       "  <tbody>\n",
       "    <tr>\n",
       "      <th>0</th>\n",
       "      <td>0</td>\n",
       "      <td>Camila Wood</td>\n",
       "      <td>Stanford University, USA</td>\n",
       "      <td>B.Com</td>\n",
       "      <td>Honours</td>\n",
       "      <td>5th</td>\n",
       "      <td>Finance</td>\n",
       "      <td>50</td>\n",
       "      <td>50</td>\n",
       "      <td>100</td>\n",
       "      <td>1</td>\n",
       "      <td>1.000000</td>\n",
       "    </tr>\n",
       "    <tr>\n",
       "      <th>1</th>\n",
       "      <td>1</td>\n",
       "      <td>Alexander Thompson</td>\n",
       "      <td>Stanford University, USA</td>\n",
       "      <td>B.Com</td>\n",
       "      <td>Financial Services</td>\n",
       "      <td>5th</td>\n",
       "      <td>Finance</td>\n",
       "      <td>50</td>\n",
       "      <td>50</td>\n",
       "      <td>100</td>\n",
       "      <td>2</td>\n",
       "      <td>0.993377</td>\n",
       "    </tr>\n",
       "    <tr>\n",
       "      <th>2</th>\n",
       "      <td>2</td>\n",
       "      <td>Liam Taylor</td>\n",
       "      <td>Harvard University, USA</td>\n",
       "      <td>B.Com</td>\n",
       "      <td>Accounting Analytics</td>\n",
       "      <td>5th</td>\n",
       "      <td>BA</td>\n",
       "      <td>50</td>\n",
       "      <td>50</td>\n",
       "      <td>100</td>\n",
       "      <td>3</td>\n",
       "      <td>0.986755</td>\n",
       "    </tr>\n",
       "    <tr>\n",
       "      <th>3</th>\n",
       "      <td>3</td>\n",
       "      <td>Evelyn Jenkins</td>\n",
       "      <td>Stanford University, USA</td>\n",
       "      <td>B.Com</td>\n",
       "      <td>Honours</td>\n",
       "      <td>5th</td>\n",
       "      <td>Finance</td>\n",
       "      <td>49</td>\n",
       "      <td>50</td>\n",
       "      <td>99</td>\n",
       "      <td>4</td>\n",
       "      <td>0.980132</td>\n",
       "    </tr>\n",
       "  </tbody>\n",
       "</table>\n",
       "</div>"
      ],
      "text/plain": [
       "   Unnamed: 0 NAME OF THE STUDENT                UNIVERSITY PROGRAM NAME  \\\n",
       "0           0         Camila Wood  Stanford University, USA        B.Com   \n",
       "1           1  Alexander Thompson  Stanford University, USA        B.Com   \n",
       "2           2         Liam Taylor   Harvard University, USA        B.Com   \n",
       "3           3      Evelyn Jenkins  Stanford University, USA        B.Com   \n",
       "\n",
       "         Specialisation SEMESTER   Domain  \\\n",
       "0               Honours      5th  Finance   \n",
       "1    Financial Services      5th  Finance   \n",
       "2  Accounting Analytics      5th       BA   \n",
       "3               Honours      5th  Finance   \n",
       "\n",
       "   GENERAL MANAGEMENT SCORE (OUT of 50)  Domain Specific SCORE (OUT 50)  \\\n",
       "0                                    50                              50   \n",
       "1                                    50                              50   \n",
       "2                                    50                              50   \n",
       "3                                    49                              50   \n",
       "\n",
       "   TOTAL SCORE (OUT of 100)  RANK  PERCENTILE  \n",
       "0                       100     1    1.000000  \n",
       "1                       100     2    0.993377  \n",
       "2                       100     3    0.986755  \n",
       "3                        99     4    0.980132  "
      ]
     },
     "execution_count": 14,
     "metadata": {},
     "output_type": "execute_result"
    }
   ],
   "source": [
    "data.head(4)"
   ]
  },
  {
   "cell_type": "code",
   "execution_count": 15,
   "id": "5212f40f",
   "metadata": {},
   "outputs": [
    {
     "data": {
      "image/png": "[encoded data removed]",
      "text/plain": [
       "<Figure size 720x432 with 1 Axes>"
      ]
     },
     "metadata": {
      "needs_background": "light"
     },
     "output_type": "display_data"
    }
   ],
   "source": [
    "data = {\n",
    "    'NAME OF THE STUDENT': ['Camila Wood', 'Alexander Thompson', 'Liam Taylor', 'Evelyn Jenkins'],\n",
    "    'TOTAL SCORE (OUT of 100)': [100, 100, 100, 99]\n",
    "}\n",
    "df = pd.DataFrame(data)\n",
    "df = df.sort_values(by='TOTAL SCORE (OUT of 100)', ascending=False)\n",
    "plt.figure(figsize=(10, 6))\n",
    "plt.bar(df['NAME OF THE STUDENT'], df['TOTAL SCORE (OUT of 100)'], color='skyblue')\n",
    "plt.xlabel('NAME OF THE STUDENT')\n",
    "plt.ylabel('TOTAL SCORE (OUT of 100)')\n",
    "plt.title('Total Score of Students')\n",
    "plt.xticks(rotation=45, ha='right')\n",
    "plt.tight_layout()\n",
    "plt.show()\n"
   ]
  },
  {
   "cell_type": "code",
   "execution_count": 16,
   "id": "db9ec690",
   "metadata": {},
   "outputs": [
    {
     "data": {
      "image/png": "[encoded data removed]",
      "text/plain": [
       "<Figure size 720x432 with 1 Axes>"
      ]
     },
     "metadata": {
      "needs_background": "light"
     },
     "output_type": "display_data"
    }
   ],
   "source": [
    "data = {\n",
    "    'NAME OF THE STUDENT': ['Camila Wood', 'Alexander Thompson', 'Liam Taylor', 'Evelyn Jenkins'],\n",
    "    'TOTAL SCORE (OUT of 100)': [100, 100, 100, 99]\n",
    "}\n",
    "df = pd.DataFrame(data)\n",
    "df = df.sort_values(by='TOTAL SCORE (OUT of 100)', ascending=False)\n",
    "plt.figure(figsize=(10, 6))\n",
    "plt.plot(df['NAME OF THE STUDENT'], df['TOTAL SCORE (OUT of 100)'], marker='o', linestyle='-', color='skyblue')\n",
    "plt.xlabel('NAME OF THE STUDENT')\n",
    "plt.ylabel('TOTAL SCORE (OUT of 100)')\n",
    "plt.title('Total Score of Students (Line Graph)')\n",
    "plt.xticks(rotation=45, ha='right')\n",
    "plt.tight_layout()\n",
    "plt.show()\n"
   ]
  },
  {
   "cell_type": "code",
   "execution_count": 17,
   "id": "5a35cc86",
   "metadata": {},
   "outputs": [
    {
     "data": {
      "image/png": "[encoded data removed]",
      "text/plain": [
       "<Figure size 576x576 with 1 Axes>"
      ]
     },
     "metadata": {},
     "output_type": "display_data"
    }
   ],
   "source": [
    "data = {\n",
    "    'NAME OF THE STUDENT': ['Camila Wood', 'Alexander Thompson', 'Liam Taylor', 'Evelyn Jenkins'],\n",
    "    'TOTAL SCORE (OUT of 100)': [100, 100, 100, 99]\n",
    "}\n",
    "df = pd.DataFrame(data)\n",
    "df = df.sort_values(by='TOTAL SCORE (OUT of 100)', ascending=False)\n",
    "plt.figure(figsize=(8, 8))\n",
    "plt.pie(df['TOTAL SCORE (OUT of 100)'], labels=df['NAME OF THE STUDENT'], autopct='%1.1f%%', startangle=140, colors=['skyblue', 'lightcoral', 'lightgreen', 'lightsalmon'])\n",
    "plt.title('Total Score Distribution')\n",
    "plt.tight_layout()\n",
    "plt.show()\n"
   ]
  },
  {
   "cell_type": "code",
   "execution_count": 18,
   "id": "a7f7c1c0",
   "metadata": {},
   "outputs": [
    {
     "data": {
      "image/png": "[encoded data removed]",
      "text/plain": [
       "<Figure size 720x432 with 1 Axes>"
      ]
     },
     "metadata": {
      "needs_background": "light"
     },
     "output_type": "display_data"
    }
   ],
   "source": [
    "data = {\n",
    "    'NAME OF THE STUDENT': ['Camila Wood', 'Alexander Thompson', 'Liam Taylor', 'Evelyn Jenkins'],\n",
    "    'TOTAL SCORE (OUT of 100)': [100, 100, 100, 99]\n",
    "}\n",
    "df = pd.DataFrame(data)\n",
    "df = df.sort_values(by='TOTAL SCORE (OUT of 100)', ascending=False)\n",
    "plt.figure(figsize=(10, 6))\n",
    "plt.scatter(df['NAME OF THE STUDENT'], df['TOTAL SCORE (OUT of 100)'], color='skyblue', marker='o')\n",
    "plt.xlabel('NAME OF THE STUDENT')\n",
    "plt.ylabel('TOTAL SCORE (OUT of 100)')\n",
    "plt.title('Total Score of Students (Scatter Plot)')\n",
    "plt.xticks(rotation=45, ha='right')\n",
    "plt.tight_layout()\n",
    "plt.show()\n"
   ]
  },
  {
   "cell_type": "code",
   "execution_count": 19,
   "id": "980f8e72",
   "metadata": {},
   "outputs": [
    {
     "data": {
      "image/png": "[encoded data removed]",
      "text/plain": [
       "<Figure size 576x432 with 2 Axes>"
      ]
     },
     "metadata": {
      "needs_background": "light"
     },
     "output_type": "display_data"
    }
   ],
   "source": [
    "data = {\n",
    "    'NAME OF THE STUDENT': ['Camila Wood', 'Alexander Thompson', 'Liam Taylor', 'Evelyn Jenkins'],\n",
    "    'TOTAL SCORE (OUT of 100)': [100, 100, 100, 99]\n",
    "}\n",
    "df = pd.DataFrame(data)\n",
    "df = df.sort_values(by='TOTAL SCORE (OUT of 100)', ascending=False)\n",
    "plt.figure(figsize=(8, 6))\n",
    "sns.heatmap(df[['TOTAL SCORE (OUT of 100)']], annot=True, fmt='g', cmap='viridis', xticklabels=['TOTAL SCORE (OUT of 100)'], yticklabels=df['NAME OF THE STUDENT'])\n",
    "plt.title('Heatmap of Total Scores')\n",
    "plt.show()\n"
   ]
  },
  {
   "cell_type": "code",
   "execution_count": 20,
   "id": "8880c8ae",
   "metadata": {},
   "outputs": [
    {
     "data": {
      "image/png": "[encoded data removed]",
      "text/plain": [
       "<Figure size 576x432 with 1 Axes>"
      ]
     },
     "metadata": {
      "needs_background": "light"
     },
     "output_type": "display_data"
    }
   ],
   "source": [
    "data = {\n",
    "    'NAME OF THE STUDENT': ['Camila Wood', 'Alexander Thompson', 'Liam Taylor', 'Evelyn Jenkins'],\n",
    "    'TOTAL SCORE (OUT of 100)': [100, 100, 100, 99]\n",
    "}\n",
    "df = pd.DataFrame(data)\n",
    "plt.figure(figsize=(8, 6))\n",
    "sns.boxplot(x='TOTAL SCORE (OUT of 100)', data=df, color='skyblue')\n",
    "plt.title('Boxplot of Total Scores')\n",
    "plt.show()\n"
   ]
  },
  {
   "cell_type": "code",
   "execution_count": 21,
   "id": "373562ac",
   "metadata": {},
   "outputs": [
    {
     "name": "stdout",
     "output_type": "stream",
     "text": [
      "The mean of the total scores is: 99.75\n"
     ]
    }
   ],
   "source": [
    "df = pd.DataFrame(data)\n",
    "mean_score = np.mean(df['TOTAL SCORE (OUT of 100)'])\n",
    "print(f\"The mean of the total scores is: {mean_score}\")"
   ]
  },
  {
   "cell_type": "code",
   "execution_count": 23,
   "id": "32bd394f",
   "metadata": {},
   "outputs": [
    {
     "name": "stdout",
     "output_type": "stream",
     "text": [
      "The mode of the total scores is: 100\n"
     ]
    }
   ],
   "source": [
    "df = pd.DataFrame(data)\n",
    "mode_score = stats.mode(df['TOTAL SCORE (OUT of 100)'])\n",
    "print(f\"The mode of the total scores is: {mode_score.mode[0]}\")"
   ]
  },
  {
   "cell_type": "code",
   "execution_count": 24,
   "id": "18d93a0f",
   "metadata": {},
   "outputs": [
    {
     "name": "stdout",
     "output_type": "stream",
     "text": [
      "The median of the total scores is: 100.0\n"
     ]
    }
   ],
   "source": [
    "df = pd.DataFrame(data)\n",
    "median_score = np.median(df['TOTAL SCORE (OUT of 100)'])\n",
    "print(f\"The median of the total scores is: {median_score}\")\n"
   ]
  },
  {
   "cell_type": "code",
   "execution_count": 25,
   "id": "bcb72744",
   "metadata": {},
   "outputs": [
    {
     "name": "stdout",
     "output_type": "stream",
     "text": [
      "The skewness of the total scores is: -1.1547005383792515\n"
     ]
    }
   ],
   "source": [
    "from scipy.stats import skew\n",
    "df = pd.DataFrame(data)\n",
    "skewness_score = skew(df['TOTAL SCORE (OUT of 100)'])\n",
    "print(f\"The skewness of the total scores is: {skewness_score}\")"
   ]
  },
  {
   "cell_type": "code",
   "execution_count": 26,
   "id": "626b8fcb",
   "metadata": {},
   "outputs": [
    {
     "name": "stdout",
     "output_type": "stream",
     "text": [
      "The variance of the total scores is: 0.1875\n"
     ]
    }
   ],
   "source": [
    "df = pd.DataFrame(data)\n",
    "variance_score = np.var(df['TOTAL SCORE (OUT of 100)'], ddof=0)  \n",
    "print(f\"The variance of the total scores is: {variance_score}\")"
   ]
  },
  {
   "cell_type": "code",
   "execution_count": 27,
   "id": "3ad692bd",
   "metadata": {},
   "outputs": [
    {
     "name": "stdout",
     "output_type": "stream",
     "text": [
      "The standard deviation of the total scores is: 0.4330127018922193\n"
     ]
    }
   ],
   "source": [
    "df = pd.DataFrame(data)\n",
    "std_deviation_score = np.std(df['TOTAL SCORE (OUT of 100)'], ddof=0)  \n",
    "print(f\"The standard deviation of the total scores is: {std_deviation_score}\")"
   ]
  },
  {
   "cell_type": "code",
   "execution_count": 28,
   "id": "b4cef035",
   "metadata": {},
   "outputs": [
    {
     "name": "stdout",
     "output_type": "stream",
     "text": [
      "The kurtosis of the total scores is: -0.6666666666666665\n"
     ]
    }
   ],
   "source": [
    "from scipy.stats import kurtosis\n",
    "df = pd.DataFrame(data)\n",
    "kurtosis_score = kurtosis(df['TOTAL SCORE (OUT of 100)'])\n",
    "print(f\"The kurtosis of the total scores is: {kurtosis_score}\")"
   ]
  },
  {
   "cell_type": "code",
   "execution_count": 29,
   "id": "cf3adc88",
   "metadata": {},
   "outputs": [
    {
     "name": "stdout",
     "output_type": "stream",
     "text": [
      "Q1: 99.75\n",
      "Q2: 100.0\n",
      "Q3: 100.0\n"
     ]
    }
   ],
   "source": [
    "data = [100, 100, 100, 99]\n",
    "q1 = np.percentile(data, 25)\n",
    "q2 = np.percentile(data, 50)\n",
    "q3 = np.percentile(data, 75)\n",
    "print(f\"Q1: {q1}\")\n",
    "print(f\"Q2: {q2}\")\n",
    "print(f\"Q3: {q3}\")\n"
   ]
  },
  {
   "cell_type": "code",
   "execution_count": 30,
   "id": "590f2205",
   "metadata": {},
   "outputs": [
    {
     "name": "stdout",
     "output_type": "stream",
     "text": [
      "Q1: 99.75\n",
      "Q3: 100.0\n",
      "IQR: 0.25\n"
     ]
    }
   ],
   "source": [
    "data = [100, 100, 100, 99]\n",
    "q1 = np.percentile(data, 25)\n",
    "q3 = np.percentile(data, 75)\n",
    "iqr = q3 - q1\n",
    "print(f\"Q1: {q1}\")\n",
    "print(f\"Q3: {q3}\")\n",
    "print(f\"IQR: {iqr}\")\n"
   ]
  },
  {
   "cell_type": "code",
   "execution_count": 47,
   "id": "3c6955e6",
   "metadata": {},
   "outputs": [
    {
     "name": "stdout",
     "output_type": "stream",
     "text": [
      "Measures of Central Tendency:\n",
      "Mean: 51.46\n",
      "Median: 51.5\n",
      "Mode: 81\n",
      "\n",
      "Measures of Variability:\n",
      "Range: 98\n",
      "Variance: 919.3014141414137\n",
      "Standard Deviation: 30.3199837424332\n",
      "IQR: 57.25\n",
      "\n",
      "Shape of the Distribution:\n",
      "Skewness: -0.08905610002651417\n",
      "Kurtosis: -1.3443997000678436\n"
     ]
    }
   ],
   "source": [
    "df = pd.DataFrame(data)\n",
    "revenue = df['Domain Specific SCORE (OUT 50)']\n",
    "mean = revenue.mean()\n",
    "median = revenue.median()\n",
    "mode = revenue.mode()[0]  \n",
    "\n",
    "range_val = revenue.max() - revenue.min()\n",
    "variance = revenue.var()\n",
    "std_dev = revenue.std()\n",
    "q1 = revenue.quantile(0.25)\n",
    "q3 = revenue.quantile(0.75)\n",
    "iqr = q3 - q1\n",
    "\n",
    "skewness = revenue.skew()\n",
    "kurtosis = revenue.kurtosis()\n",
    "\n",
    "print(f\"Measures of Central Tendency:\")\n",
    "print(f\"Mean: {mean}\")\n",
    "print(f\"Median: {median}\")\n",
    "print(f\"Mode: {mode}\\n\")\n",
    "\n",
    "print(f\"Measures of Variability:\")\n",
    "print(f\"Range: {range_val}\")\n",
    "print(f\"Variance: {variance}\")\n",
    "print(f\"Standard Deviation: {std_dev}\")\n",
    "print(f\"IQR: {iqr}\\n\")\n",
    "\n",
    "print(f\"Shape of the Distribution:\")\n",
    "print(f\"Skewness: {skewness}\")\n",
    "print(f\"Kurtosis: {kurtosis}\")\n"
   ]
  },
  {
   "cell_type": "code",
   "execution_count": 48,
   "id": "732d9de0",
   "metadata": {},
   "outputs": [
    {
     "name": "stdout",
     "output_type": "stream",
     "text": [
      "Measures of Central Tendency:\n",
      "Mean: 51.46\n",
      "Median: 51.5\n",
      "Mode: 81\n",
      "\n",
      "Measures of Variability:\n",
      "Range: 98\n",
      "Variance: 919.3014141414137\n",
      "Standard Deviation: 30.3199837424332\n",
      "IQR: 57.25\n",
      "\n",
      "Shape of the Distribution:\n",
      "Skewness: -0.08905610002651417\n",
      "Kurtosis: -1.3443997000678436\n"
     ]
    }
   ],
   "source": [
    "# revenue = data['PERCENTILE']\n",
    "mean = revenue.mean()\n",
    "median = revenue.median()\n",
    "mode = revenue.mode()[0]  \n",
    "\n",
    "range_val = revenue.max() - revenue.min()\n",
    "variance = revenue.var()\n",
    "std_dev = revenue.std()\n",
    "q1 = revenue.quantile(0.25)\n",
    "q3 = revenue.quantile(0.75)\n",
    "iqr = q3 - q1\n",
    "\n",
    "skewness = revenue.skew()\n",
    "kurtosis = revenue.kurtosis()\n",
    "\n",
    "print(f\"Measures of Central Tendency:\")\n",
    "print(f\"Mean: {mean}\")\n",
    "print(f\"Median: {median}\")\n",
    "print(f\"Mode: {mode}\\n\")\n",
    "\n",
    "print(f\"Measures of Variability:\")\n",
    "print(f\"Range: {range_val}\")\n",
    "print(f\"Variance: {variance}\")\n",
    "print(f\"Standard Deviation: {std_dev}\")\n",
    "print(f\"IQR: {iqr}\\n\")\n",
    "\n",
    "print(f\"Shape of the Distribution:\")\n",
    "print(f\"Skewness: {skewness}\")\n",
    "print(f\"Kurtosis: {kurtosis}\")"
   ]
  },
  {
   "cell_type": "code",
   "execution_count": 43,
   "id": "d59e2ba3",
   "metadata": {},
   "outputs": [
    {
     "name": "stdout",
     "output_type": "stream",
     "text": [
      "       Domain Specific SCORE (OUT 50)  PERCENTILE  Range  Variance  \\\n",
      "count                      100.000000  100.000000    NaN       NaN   \n",
      "mean                        51.460000   53.860000    NaN       NaN   \n",
      "std                         30.319984   28.185898    NaN       NaN   \n",
      "min                          1.000000    1.000000    NaN       NaN   \n",
      "25%                         23.750000   32.750000    NaN       NaN   \n",
      "50%                         51.500000   57.500000    NaN       NaN   \n",
      "75%                         81.000000   77.250000    NaN       NaN   \n",
      "max                         99.000000   98.000000    NaN       NaN   \n",
      "\n",
      "       Standard Deviation  Skewness  Kurtosis  \n",
      "count                 NaN       NaN       NaN  \n",
      "mean                  NaN       NaN       NaN  \n",
      "std                   NaN       NaN       NaN  \n",
      "min                   NaN       NaN       NaN  \n",
      "25%                   NaN       NaN       NaN  \n",
      "50%                   NaN       NaN       NaN  \n",
      "75%                   NaN       NaN       NaN  \n",
      "max                   NaN       NaN       NaN  \n"
     ]
    }
   ],
   "source": [
    "df = pd.DataFrame(data)\n",
    "numerical_data = df[['Domain Specific SCORE (OUT 50)', 'PERCENTILE']]\n",
    "statistics = numerical_data.describe()\n",
    "range_values = numerical_data.max() - numerical_data.min()\n",
    "variance = numerical_data.var()\n",
    "standard_deviation = numerical_data.std()\n",
    "skewness = numerical_data.skew()\n",
    "kurtosis = numerical_data.kurtosis()\n",
    "statistics['Range'] = range_values\n",
    "statistics['Variance'] = variance\n",
    "statistics['Standard Deviation'] = standard_deviation\n",
    "statistics['Skewness'] = skewness\n",
    "statistics['Kurtosis'] = kurtosis\n",
    "print(statistics)\n"
   ]
  },
  {
   "cell_type": "code",
   "execution_count": null,
   "id": "d6efaab1",
   "metadata": {},
   "outputs": [],
   "source": []
  }
 ],
 "metadata": {
  "kernelspec": {
   "display_name": "Python 3 (ipykernel)",
   "language": "python",
   "name": "python3"
  },
  "language_info": {
   "codemirror_mode": {
    "name": "ipython",
    "version": 3
   },
   "file_extension": ".py",
   "mimetype": "text/x-python",
   "name": "python",
   "nbconvert_exporter": "python",
   "pygments_lexer": "ipython3",
   "version": "3.9.12"
  }
 },
 "nbformat": 4,
 "nbformat_minor": 5
}
